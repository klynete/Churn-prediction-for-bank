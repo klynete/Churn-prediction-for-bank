{
 "cells": [
  {
   "cell_type": "markdown",
   "id": "02df088d",
   "metadata": {},
   "source": [
    "## Import Libraries"
   ]
  },
  {
   "cell_type": "code",
   "execution_count": 23,
   "id": "94707350",
   "metadata": {},
   "outputs": [],
   "source": [
    "import pandas as pd\n",
    "import numpy as np\n",
    "from sklearn.model_selection import train_test_split\n",
    "from sklearn.preprocessing import StandardScaler\n",
    "from io import StringIO  \n",
    "from imblearn.over_sampling import SMOTE\n",
    "random_state=123"
   ]
  },
  {
   "cell_type": "markdown",
   "id": "edf2f277",
   "metadata": {},
   "source": [
    "## Load Data"
   ]
  },
  {
   "cell_type": "code",
   "execution_count": 20,
   "id": "b9fcb1fd",
   "metadata": {},
   "outputs": [
    {
     "name": "stdout",
     "output_type": "stream",
     "text": [
      "<class 'pandas.core.frame.DataFrame'>\n",
      "RangeIndex: 10000 entries, 0 to 9999\n",
      "Data columns (total 8 columns):\n",
      " #   Column          Non-Null Count  Dtype  \n",
      "---  ------          --------------  -----  \n",
      " 0   CreditScore     10000 non-null  int64  \n",
      " 1   Geography       10000 non-null  object \n",
      " 2   Gender          10000 non-null  object \n",
      " 3   Age             10000 non-null  int64  \n",
      " 4   Balance         10000 non-null  float64\n",
      " 5   NumOfProducts   10000 non-null  int64  \n",
      " 6   IsActiveMember  10000 non-null  int64  \n",
      " 7   Exited          10000 non-null  int64  \n",
      "dtypes: float64(1), int64(5), object(2)\n",
      "memory usage: 625.1+ KB\n"
     ]
    }
   ],
   "source": [
    "# the cleaned CSV data file is in the data directory\n",
    "bank_data = pd.read_csv('../data/bank_data_cleaned_upd.csv')\n",
    "bank_data.info()"
   ]
  },
  {
   "cell_type": "markdown",
   "id": "29318894",
   "metadata": {},
   "source": [
    "## Separate class for predictions"
   ]
  },
  {
   "cell_type": "code",
   "execution_count": 21,
   "id": "8ef91cd3",
   "metadata": {},
   "outputs": [
    {
     "data": {
      "text/html": [
       "<div>\n",
       "<style scoped>\n",
       "    .dataframe tbody tr th:only-of-type {\n",
       "        vertical-align: middle;\n",
       "    }\n",
       "\n",
       "    .dataframe tbody tr th {\n",
       "        vertical-align: top;\n",
       "    }\n",
       "\n",
       "    .dataframe thead th {\n",
       "        text-align: right;\n",
       "    }\n",
       "</style>\n",
       "<table border=\"1\" class=\"dataframe\">\n",
       "  <thead>\n",
       "    <tr style=\"text-align: right;\">\n",
       "      <th></th>\n",
       "      <th>count</th>\n",
       "      <th>mean</th>\n",
       "      <th>std</th>\n",
       "      <th>min</th>\n",
       "      <th>25%</th>\n",
       "      <th>50%</th>\n",
       "      <th>75%</th>\n",
       "      <th>max</th>\n",
       "    </tr>\n",
       "  </thead>\n",
       "  <tbody>\n",
       "    <tr>\n",
       "      <th>CreditScore</th>\n",
       "      <td>10000.0</td>\n",
       "      <td>650.528800</td>\n",
       "      <td>96.653299</td>\n",
       "      <td>350.0</td>\n",
       "      <td>584.0</td>\n",
       "      <td>652.00</td>\n",
       "      <td>718.00</td>\n",
       "      <td>850.00</td>\n",
       "    </tr>\n",
       "    <tr>\n",
       "      <th>Age</th>\n",
       "      <td>10000.0</td>\n",
       "      <td>38.921800</td>\n",
       "      <td>10.487806</td>\n",
       "      <td>18.0</td>\n",
       "      <td>32.0</td>\n",
       "      <td>37.00</td>\n",
       "      <td>44.00</td>\n",
       "      <td>92.00</td>\n",
       "    </tr>\n",
       "    <tr>\n",
       "      <th>Balance</th>\n",
       "      <td>10000.0</td>\n",
       "      <td>76485.889288</td>\n",
       "      <td>62397.405202</td>\n",
       "      <td>0.0</td>\n",
       "      <td>0.0</td>\n",
       "      <td>97198.54</td>\n",
       "      <td>127644.24</td>\n",
       "      <td>250898.09</td>\n",
       "    </tr>\n",
       "    <tr>\n",
       "      <th>NumOfProducts</th>\n",
       "      <td>10000.0</td>\n",
       "      <td>1.530200</td>\n",
       "      <td>0.581654</td>\n",
       "      <td>1.0</td>\n",
       "      <td>1.0</td>\n",
       "      <td>1.00</td>\n",
       "      <td>2.00</td>\n",
       "      <td>4.00</td>\n",
       "    </tr>\n",
       "    <tr>\n",
       "      <th>IsActiveMember</th>\n",
       "      <td>10000.0</td>\n",
       "      <td>0.515100</td>\n",
       "      <td>0.499797</td>\n",
       "      <td>0.0</td>\n",
       "      <td>0.0</td>\n",
       "      <td>1.00</td>\n",
       "      <td>1.00</td>\n",
       "      <td>1.00</td>\n",
       "    </tr>\n",
       "    <tr>\n",
       "      <th>Exited</th>\n",
       "      <td>10000.0</td>\n",
       "      <td>0.203700</td>\n",
       "      <td>0.402769</td>\n",
       "      <td>0.0</td>\n",
       "      <td>0.0</td>\n",
       "      <td>0.00</td>\n",
       "      <td>0.00</td>\n",
       "      <td>1.00</td>\n",
       "    </tr>\n",
       "  </tbody>\n",
       "</table>\n",
       "</div>"
      ],
      "text/plain": [
       "                  count          mean           std    min    25%       50%  \\\n",
       "CreditScore     10000.0    650.528800     96.653299  350.0  584.0    652.00   \n",
       "Age             10000.0     38.921800     10.487806   18.0   32.0     37.00   \n",
       "Balance         10000.0  76485.889288  62397.405202    0.0    0.0  97198.54   \n",
       "NumOfProducts   10000.0      1.530200      0.581654    1.0    1.0      1.00   \n",
       "IsActiveMember  10000.0      0.515100      0.499797    0.0    0.0      1.00   \n",
       "Exited          10000.0      0.203700      0.402769    0.0    0.0      0.00   \n",
       "\n",
       "                      75%        max  \n",
       "CreditScore        718.00     850.00  \n",
       "Age                 44.00      92.00  \n",
       "Balance         127644.24  250898.09  \n",
       "NumOfProducts        2.00       4.00  \n",
       "IsActiveMember       1.00       1.00  \n",
       "Exited               0.00       1.00  "
      ]
     },
     "execution_count": 21,
     "metadata": {},
     "output_type": "execute_result"
    }
   ],
   "source": [
    "y=bank_data['Exited']\n",
    "X=bank_data.drop('Exited', axis=1)\n",
    "X.shape\n",
    "bank_data.describe().T"
   ]
  },
  {
   "cell_type": "markdown",
   "id": "4b506e1d",
   "metadata": {},
   "source": [
    "## Convert Categorical features to dummy variables"
   ]
  },
  {
   "cell_type": "code",
   "execution_count": 22,
   "id": "7d97b6d7",
   "metadata": {},
   "outputs": [
    {
     "data": {
      "text/plain": [
       "Index(['CreditScore', 'Age', 'Balance', 'NumOfProducts', 'IsActiveMember',\n",
       "       'Geography_Germany', 'Geography_Spain', 'Gender_Male'],\n",
       "      dtype='object')"
      ]
     },
     "execution_count": 22,
     "metadata": {},
     "output_type": "execute_result"
    }
   ],
   "source": [
    "#Create dummy variables to deal with categorical inputs\n",
    "X=pd.get_dummies(X, drop_first=True)\n",
    "X.columns"
   ]
  },
  {
   "cell_type": "markdown",
   "id": "e8d23267",
   "metadata": {},
   "source": [
    "## Train/Test split"
   ]
  },
  {
   "cell_type": "markdown",
   "id": "c7448c70",
   "metadata": {},
   "source": [
    "Split our data into Train and Test datasets with 75/25 proportion. \n",
    "Random state=42 for replicability.\n",
    "All other manipulations with data will be fitted to Train set and applied to Test set in order to avoid data leakage from train set."
   ]
  },
  {
   "cell_type": "code",
   "execution_count": 37,
   "id": "35d9ada4",
   "metadata": {},
   "outputs": [
    {
     "name": "stdout",
     "output_type": "stream",
     "text": [
      "(8000, 8) (8000,)\n"
     ]
    }
   ],
   "source": [
    "# Call train_test_split on X, y. Make the test_size = 0.2, and random_state = 42\n",
    "X_train, X_test, y_train, y_test=train_test_split(X, y, test_size = 0.2, random_state = random_state)\n",
    "print(X_train.shape, y_train.shape)"
   ]
  },
  {
   "cell_type": "markdown",
   "id": "c5fe09fa",
   "metadata": {},
   "source": [
    "## Oversampling with SMOTE"
   ]
  },
  {
   "cell_type": "markdown",
   "id": "2c47c5b7",
   "metadata": {},
   "source": [
    "Initial dataset is unbalanced with minority class of Exited users of 20%. In order to improve further classification we can apply oversampling technique - SMOTE (Synthetic Minority Oversampling TEchnique) that that performs data augmentation by creating synthetic data points based on the original data points. The advantage of SMOTE is that you are not generating duplicates, but rather creating synthetic data points that are slightly different from the original data points."
   ]
  },
  {
   "cell_type": "code",
   "execution_count": 38,
   "id": "5461f44b",
   "metadata": {},
   "outputs": [
    {
     "name": "stdout",
     "output_type": "stream",
     "text": [
      "Shape of X_train:  (12754, 8) (12754,)\n",
      "Exited values count:\n",
      " 0    6377\n",
      "1    6377\n",
      "Name: Exited, dtype: int64\n"
     ]
    },
    {
     "data": {
      "text/html": [
       "<div>\n",
       "<style scoped>\n",
       "    .dataframe tbody tr th:only-of-type {\n",
       "        vertical-align: middle;\n",
       "    }\n",
       "\n",
       "    .dataframe tbody tr th {\n",
       "        vertical-align: top;\n",
       "    }\n",
       "\n",
       "    .dataframe thead th {\n",
       "        text-align: right;\n",
       "    }\n",
       "</style>\n",
       "<table border=\"1\" class=\"dataframe\">\n",
       "  <thead>\n",
       "    <tr style=\"text-align: right;\">\n",
       "      <th></th>\n",
       "      <th>count</th>\n",
       "      <th>mean</th>\n",
       "      <th>std</th>\n",
       "      <th>min</th>\n",
       "      <th>25%</th>\n",
       "      <th>50%</th>\n",
       "      <th>75%</th>\n",
       "      <th>max</th>\n",
       "    </tr>\n",
       "  </thead>\n",
       "  <tbody>\n",
       "    <tr>\n",
       "      <th>CreditScore</th>\n",
       "      <td>12754.0</td>\n",
       "      <td>647.826015</td>\n",
       "      <td>93.823149</td>\n",
       "      <td>350.0</td>\n",
       "      <td>584.0</td>\n",
       "      <td>648.50</td>\n",
       "      <td>712.000000</td>\n",
       "      <td>850.00</td>\n",
       "    </tr>\n",
       "    <tr>\n",
       "      <th>Age</th>\n",
       "      <td>12754.0</td>\n",
       "      <td>40.929904</td>\n",
       "      <td>10.116848</td>\n",
       "      <td>18.0</td>\n",
       "      <td>34.0</td>\n",
       "      <td>40.00</td>\n",
       "      <td>47.000000</td>\n",
       "      <td>92.00</td>\n",
       "    </tr>\n",
       "    <tr>\n",
       "      <th>Balance</th>\n",
       "      <td>12754.0</td>\n",
       "      <td>81624.141557</td>\n",
       "      <td>61307.243768</td>\n",
       "      <td>0.0</td>\n",
       "      <td>0.0</td>\n",
       "      <td>102491.55</td>\n",
       "      <td>129248.557356</td>\n",
       "      <td>250898.09</td>\n",
       "    </tr>\n",
       "    <tr>\n",
       "      <th>NumOfProducts</th>\n",
       "      <td>12754.0</td>\n",
       "      <td>1.427082</td>\n",
       "      <td>0.576513</td>\n",
       "      <td>1.0</td>\n",
       "      <td>1.0</td>\n",
       "      <td>1.00</td>\n",
       "      <td>2.000000</td>\n",
       "      <td>4.00</td>\n",
       "    </tr>\n",
       "    <tr>\n",
       "      <th>IsActiveMember</th>\n",
       "      <td>12754.0</td>\n",
       "      <td>0.372197</td>\n",
       "      <td>0.483409</td>\n",
       "      <td>0.0</td>\n",
       "      <td>0.0</td>\n",
       "      <td>0.00</td>\n",
       "      <td>1.000000</td>\n",
       "      <td>1.00</td>\n",
       "    </tr>\n",
       "    <tr>\n",
       "      <th>Geography_Germany</th>\n",
       "      <td>12754.0</td>\n",
       "      <td>0.249020</td>\n",
       "      <td>0.432462</td>\n",
       "      <td>0.0</td>\n",
       "      <td>0.0</td>\n",
       "      <td>0.00</td>\n",
       "      <td>0.000000</td>\n",
       "      <td>1.00</td>\n",
       "    </tr>\n",
       "    <tr>\n",
       "      <th>Geography_Spain</th>\n",
       "      <td>12754.0</td>\n",
       "      <td>0.177435</td>\n",
       "      <td>0.382051</td>\n",
       "      <td>0.0</td>\n",
       "      <td>0.0</td>\n",
       "      <td>0.00</td>\n",
       "      <td>0.000000</td>\n",
       "      <td>1.00</td>\n",
       "    </tr>\n",
       "    <tr>\n",
       "      <th>Gender_Male</th>\n",
       "      <td>12754.0</td>\n",
       "      <td>0.419476</td>\n",
       "      <td>0.493493</td>\n",
       "      <td>0.0</td>\n",
       "      <td>0.0</td>\n",
       "      <td>0.00</td>\n",
       "      <td>1.000000</td>\n",
       "      <td>1.00</td>\n",
       "    </tr>\n",
       "  </tbody>\n",
       "</table>\n",
       "</div>"
      ],
      "text/plain": [
       "                     count          mean           std    min    25%  \\\n",
       "CreditScore        12754.0    647.826015     93.823149  350.0  584.0   \n",
       "Age                12754.0     40.929904     10.116848   18.0   34.0   \n",
       "Balance            12754.0  81624.141557  61307.243768    0.0    0.0   \n",
       "NumOfProducts      12754.0      1.427082      0.576513    1.0    1.0   \n",
       "IsActiveMember     12754.0      0.372197      0.483409    0.0    0.0   \n",
       "Geography_Germany  12754.0      0.249020      0.432462    0.0    0.0   \n",
       "Geography_Spain    12754.0      0.177435      0.382051    0.0    0.0   \n",
       "Gender_Male        12754.0      0.419476      0.493493    0.0    0.0   \n",
       "\n",
       "                         50%            75%        max  \n",
       "CreditScore           648.50     712.000000     850.00  \n",
       "Age                    40.00      47.000000      92.00  \n",
       "Balance            102491.55  129248.557356  250898.09  \n",
       "NumOfProducts           1.00       2.000000       4.00  \n",
       "IsActiveMember          0.00       1.000000       1.00  \n",
       "Geography_Germany       0.00       0.000000       1.00  \n",
       "Geography_Spain         0.00       0.000000       1.00  \n",
       "Gender_Male             0.00       1.000000       1.00  "
      ]
     },
     "execution_count": 38,
     "metadata": {},
     "output_type": "execute_result"
    }
   ],
   "source": [
    "#Use SMOTE to handle unbalanced classes in dataset\n",
    "sm = SMOTE(random_state=random_state)\n",
    "X_train, y_train = sm.fit_resample(X_train, y_train)\n",
    "print('Shape of X_train: ', X_train.shape, y_train.shape)\n",
    "print('Exited values count:\\n',y_train.value_counts())\n",
    "X_train.describe().T\n"
   ]
  },
  {
   "cell_type": "markdown",
   "id": "a8a90e9c",
   "metadata": {},
   "source": [
    "## Save splitted and oversampled datasets"
   ]
  },
  {
   "cell_type": "code",
   "execution_count": 39,
   "id": "11ba4d59",
   "metadata": {},
   "outputs": [],
   "source": [
    "# Save to files oversampled train dataset and test dataset\n",
    "file_path=\"../data/\"\n",
    "\n",
    "X_train_fpath = file_path + 'preprocessed/X_train.csv'\n",
    "y_train_fpath = file_path + 'preprocessed/y_train.csv'\n",
    "X_test_fpath = file_path + 'preprocessed/X_test.csv'\n",
    "y_test_fpath =  file_path + 'preprocessed/y_test.csv'\n",
    "\n",
    "X_train.to_csv(X_train_fpath, index=False)\n",
    "y_train.to_csv(y_train_fpath, index=False)\n",
    "X_test.to_csv(X_test_fpath, index=False)\n",
    "y_test.to_csv(y_test_fpath, index=False)"
   ]
  },
  {
   "cell_type": "markdown",
   "id": "4b24a982",
   "metadata": {},
   "source": [
    "## Scale Data"
   ]
  },
  {
   "cell_type": "markdown",
   "id": "7f1ef7e1",
   "metadata": {},
   "source": [
    "We need to Scale data for further modelling. But not all models require scaling. So we will have separate dataframes with raw and scaled data."
   ]
  },
  {
   "cell_type": "code",
   "execution_count": 40,
   "id": "22eafbcb",
   "metadata": {},
   "outputs": [],
   "source": [
    "# Scale data with StandardScaler\n",
    "ssc=StandardScaler()\n",
    "X_train_scaled=X_train\n",
    "X_test_scaled=X_test\n",
    "X_train_scaled[['Age', 'Balance', 'CreditScore']]=pd.DataFrame(ssc.fit_transform(X_train_scaled[['Age', 'Balance', 'CreditScore']]), index=X_train.index)\n",
    "X_test_scaled[['Age', 'Balance', 'CreditScore']]=pd.DataFrame(ssc.transform(X_test_scaled[['Age', 'Balance', 'CreditScore']]), index=X_test.index)"
   ]
  },
  {
   "cell_type": "markdown",
   "id": "b5db2a9c",
   "metadata": {},
   "source": [
    "## Save Scales datasets"
   ]
  },
  {
   "cell_type": "code",
   "execution_count": 41,
   "id": "b39e9578",
   "metadata": {},
   "outputs": [],
   "source": [
    "X_train_scaled_fpath = file_path + 'preprocessed/X_train_scaled.csv'\n",
    "X_test_scaled_fpath = file_path + 'preprocessed/X_test_scaled.csv'\n",
    "X_train_scaled.to_csv(X_train_scaled_fpath, index=False)\n",
    "X_test_scaled.to_csv(X_test_scaled_fpath, index=False)"
   ]
  },
  {
   "cell_type": "code",
   "execution_count": null,
   "id": "b21e0f84",
   "metadata": {},
   "outputs": [],
   "source": []
  }
 ],
 "metadata": {
  "kernelspec": {
   "display_name": "Python 3 (ipykernel)",
   "language": "python",
   "name": "python3"
  },
  "language_info": {
   "codemirror_mode": {
    "name": "ipython",
    "version": 3
   },
   "file_extension": ".py",
   "mimetype": "text/x-python",
   "name": "python",
   "nbconvert_exporter": "python",
   "pygments_lexer": "ipython3",
   "version": "3.9.12"
  }
 },
 "nbformat": 4,
 "nbformat_minor": 5
}
