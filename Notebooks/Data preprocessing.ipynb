{
 "cells": [
  {
   "cell_type": "markdown",
   "id": "02df088d",
   "metadata": {},
   "source": [
    "## Import Libraries"
   ]
  },
  {
   "cell_type": "code",
   "execution_count": 1,
   "id": "94707350",
   "metadata": {},
   "outputs": [],
   "source": [
    "import pandas as pd\n",
    "import numpy as np\n",
    "from sklearn.model_selection import train_test_split\n",
    "from sklearn.preprocessing import StandardScaler\n",
    "from io import StringIO  \n",
    "from imblearn.over_sampling import SMOTE"
   ]
  },
  {
   "cell_type": "markdown",
   "id": "ba46e90a",
   "metadata": {},
   "source": [
    "## Load Data"
   ]
  },
  {
   "cell_type": "code",
   "execution_count": 2,
   "id": "b9fcb1fd",
   "metadata": {},
   "outputs": [
    {
     "name": "stdout",
     "output_type": "stream",
     "text": [
      "<class 'pandas.core.frame.DataFrame'>\n",
      "RangeIndex: 10000 entries, 0 to 9999\n",
      "Data columns (total 11 columns):\n",
      " #   Column           Non-Null Count  Dtype  \n",
      "---  ------           --------------  -----  \n",
      " 0   CreditScore      10000 non-null  int64  \n",
      " 1   Geography        10000 non-null  object \n",
      " 2   Gender           10000 non-null  object \n",
      " 3   Age              10000 non-null  int64  \n",
      " 4   Tenure           10000 non-null  int64  \n",
      " 5   Balance          10000 non-null  float64\n",
      " 6   NumOfProducts    10000 non-null  int64  \n",
      " 7   HasCrCard        10000 non-null  int64  \n",
      " 8   IsActiveMember   10000 non-null  int64  \n",
      " 9   EstimatedSalary  10000 non-null  float64\n",
      " 10  Exited           10000 non-null  int64  \n",
      "dtypes: float64(2), int64(7), object(2)\n",
      "memory usage: 859.5+ KB\n"
     ]
    }
   ],
   "source": [
    "# the cleaned CSV data file is in the data directory\n",
    "bank_data = pd.read_csv('../data/bank_data_cleaned.csv')\n",
    "bank_data.info()"
   ]
  },
  {
   "cell_type": "markdown",
   "id": "bfeda9f8",
   "metadata": {},
   "source": [
    "## Separate class for predictions"
   ]
  },
  {
   "cell_type": "code",
   "execution_count": 3,
   "id": "8ef91cd3",
   "metadata": {},
   "outputs": [
    {
     "data": {
      "text/html": [
       "<div>\n",
       "<style scoped>\n",
       "    .dataframe tbody tr th:only-of-type {\n",
       "        vertical-align: middle;\n",
       "    }\n",
       "\n",
       "    .dataframe tbody tr th {\n",
       "        vertical-align: top;\n",
       "    }\n",
       "\n",
       "    .dataframe thead th {\n",
       "        text-align: right;\n",
       "    }\n",
       "</style>\n",
       "<table border=\"1\" class=\"dataframe\">\n",
       "  <thead>\n",
       "    <tr style=\"text-align: right;\">\n",
       "      <th></th>\n",
       "      <th>count</th>\n",
       "      <th>mean</th>\n",
       "      <th>std</th>\n",
       "      <th>min</th>\n",
       "      <th>25%</th>\n",
       "      <th>50%</th>\n",
       "      <th>75%</th>\n",
       "      <th>max</th>\n",
       "    </tr>\n",
       "  </thead>\n",
       "  <tbody>\n",
       "    <tr>\n",
       "      <th>CreditScore</th>\n",
       "      <td>10000.0</td>\n",
       "      <td>650.528800</td>\n",
       "      <td>96.653299</td>\n",
       "      <td>350.00</td>\n",
       "      <td>584.00</td>\n",
       "      <td>652.000</td>\n",
       "      <td>718.0000</td>\n",
       "      <td>850.00</td>\n",
       "    </tr>\n",
       "    <tr>\n",
       "      <th>Age</th>\n",
       "      <td>10000.0</td>\n",
       "      <td>38.921800</td>\n",
       "      <td>10.487806</td>\n",
       "      <td>18.00</td>\n",
       "      <td>32.00</td>\n",
       "      <td>37.000</td>\n",
       "      <td>44.0000</td>\n",
       "      <td>92.00</td>\n",
       "    </tr>\n",
       "    <tr>\n",
       "      <th>Tenure</th>\n",
       "      <td>10000.0</td>\n",
       "      <td>5.012800</td>\n",
       "      <td>2.892174</td>\n",
       "      <td>0.00</td>\n",
       "      <td>3.00</td>\n",
       "      <td>5.000</td>\n",
       "      <td>7.0000</td>\n",
       "      <td>10.00</td>\n",
       "    </tr>\n",
       "    <tr>\n",
       "      <th>Balance</th>\n",
       "      <td>10000.0</td>\n",
       "      <td>76485.889288</td>\n",
       "      <td>62397.405202</td>\n",
       "      <td>0.00</td>\n",
       "      <td>0.00</td>\n",
       "      <td>97198.540</td>\n",
       "      <td>127644.2400</td>\n",
       "      <td>250898.09</td>\n",
       "    </tr>\n",
       "    <tr>\n",
       "      <th>NumOfProducts</th>\n",
       "      <td>10000.0</td>\n",
       "      <td>1.530200</td>\n",
       "      <td>0.581654</td>\n",
       "      <td>1.00</td>\n",
       "      <td>1.00</td>\n",
       "      <td>1.000</td>\n",
       "      <td>2.0000</td>\n",
       "      <td>4.00</td>\n",
       "    </tr>\n",
       "    <tr>\n",
       "      <th>HasCrCard</th>\n",
       "      <td>10000.0</td>\n",
       "      <td>0.705500</td>\n",
       "      <td>0.455840</td>\n",
       "      <td>0.00</td>\n",
       "      <td>0.00</td>\n",
       "      <td>1.000</td>\n",
       "      <td>1.0000</td>\n",
       "      <td>1.00</td>\n",
       "    </tr>\n",
       "    <tr>\n",
       "      <th>IsActiveMember</th>\n",
       "      <td>10000.0</td>\n",
       "      <td>0.515100</td>\n",
       "      <td>0.499797</td>\n",
       "      <td>0.00</td>\n",
       "      <td>0.00</td>\n",
       "      <td>1.000</td>\n",
       "      <td>1.0000</td>\n",
       "      <td>1.00</td>\n",
       "    </tr>\n",
       "    <tr>\n",
       "      <th>EstimatedSalary</th>\n",
       "      <td>10000.0</td>\n",
       "      <td>100090.239881</td>\n",
       "      <td>57510.492818</td>\n",
       "      <td>11.58</td>\n",
       "      <td>51002.11</td>\n",
       "      <td>100193.915</td>\n",
       "      <td>149388.2475</td>\n",
       "      <td>199992.48</td>\n",
       "    </tr>\n",
       "    <tr>\n",
       "      <th>Exited</th>\n",
       "      <td>10000.0</td>\n",
       "      <td>0.203700</td>\n",
       "      <td>0.402769</td>\n",
       "      <td>0.00</td>\n",
       "      <td>0.00</td>\n",
       "      <td>0.000</td>\n",
       "      <td>0.0000</td>\n",
       "      <td>1.00</td>\n",
       "    </tr>\n",
       "  </tbody>\n",
       "</table>\n",
       "</div>"
      ],
      "text/plain": [
       "                   count           mean           std     min       25%  \\\n",
       "CreditScore      10000.0     650.528800     96.653299  350.00    584.00   \n",
       "Age              10000.0      38.921800     10.487806   18.00     32.00   \n",
       "Tenure           10000.0       5.012800      2.892174    0.00      3.00   \n",
       "Balance          10000.0   76485.889288  62397.405202    0.00      0.00   \n",
       "NumOfProducts    10000.0       1.530200      0.581654    1.00      1.00   \n",
       "HasCrCard        10000.0       0.705500      0.455840    0.00      0.00   \n",
       "IsActiveMember   10000.0       0.515100      0.499797    0.00      0.00   \n",
       "EstimatedSalary  10000.0  100090.239881  57510.492818   11.58  51002.11   \n",
       "Exited           10000.0       0.203700      0.402769    0.00      0.00   \n",
       "\n",
       "                        50%          75%        max  \n",
       "CreditScore         652.000     718.0000     850.00  \n",
       "Age                  37.000      44.0000      92.00  \n",
       "Tenure                5.000       7.0000      10.00  \n",
       "Balance           97198.540  127644.2400  250898.09  \n",
       "NumOfProducts         1.000       2.0000       4.00  \n",
       "HasCrCard             1.000       1.0000       1.00  \n",
       "IsActiveMember        1.000       1.0000       1.00  \n",
       "EstimatedSalary  100193.915  149388.2475  199992.48  \n",
       "Exited                0.000       0.0000       1.00  "
      ]
     },
     "execution_count": 3,
     "metadata": {},
     "output_type": "execute_result"
    }
   ],
   "source": [
    "y=bank_data['Exited']\n",
    "X=bank_data.drop('Exited', axis=1)\n",
    "X.shape\n",
    "bank_data.describe().T"
   ]
  },
  {
   "cell_type": "markdown",
   "id": "ea078492",
   "metadata": {},
   "source": [
    "## Convert Categorical features to dummy variables"
   ]
  },
  {
   "cell_type": "code",
   "execution_count": 4,
   "id": "7d97b6d7",
   "metadata": {},
   "outputs": [
    {
     "data": {
      "text/plain": [
       "Index(['CreditScore', 'Age', 'Tenure', 'Balance', 'NumOfProducts', 'HasCrCard',\n",
       "       'IsActiveMember', 'EstimatedSalary', 'Geography_Germany',\n",
       "       'Geography_Spain', 'Gender_Male'],\n",
       "      dtype='object')"
      ]
     },
     "execution_count": 4,
     "metadata": {},
     "output_type": "execute_result"
    }
   ],
   "source": [
    "#Create dummy variables to deal with categorical inputs\n",
    "X=pd.get_dummies(X, drop_first=True)\n",
    "X.columns"
   ]
  },
  {
   "cell_type": "markdown",
   "id": "c3cfd0e4",
   "metadata": {},
   "source": [
    "## Train/Test split"
   ]
  },
  {
   "cell_type": "markdown",
   "id": "7332a529",
   "metadata": {},
   "source": [
    "Split our data into Train and Test datasets with 75/25 proportion. \n",
    "Random state=42 for replicability.\n",
    "All other manipulations with data will be fitted to Train set and applied to Test set in order to avoid data leakage from train set."
   ]
  },
  {
   "cell_type": "code",
   "execution_count": 5,
   "id": "35d9ada4",
   "metadata": {},
   "outputs": [
    {
     "name": "stdout",
     "output_type": "stream",
     "text": [
      "(7500, 11) (7500,)\n"
     ]
    }
   ],
   "source": [
    "# Call train_test_split on X, y. Make the test_size = 0.25, and random_state = 42\n",
    "X_train, X_test, y_train, y_test=train_test_split(X, y, test_size = 0.25, random_state = 42)\n",
    "print(X_train.shape, y_train.shape)"
   ]
  },
  {
   "cell_type": "markdown",
   "id": "bced0deb",
   "metadata": {},
   "source": [
    "## Oversampling with SMOTE"
   ]
  },
  {
   "cell_type": "markdown",
   "id": "d6033415",
   "metadata": {},
   "source": [
    "Initial dataset is unbalanced with minority class of Exited users of 20%. In order to improve further classification we can apply oversampling technique - SMOTE (Synthetic Minority Oversampling TEchnique) that that performs data augmentation by creating synthetic data points based on the original data points. The advantage of SMOTE is that you are not generating duplicates, but rather creating synthetic data points that are slightly different from the original data points."
   ]
  },
  {
   "cell_type": "code",
   "execution_count": 18,
   "id": "b0571b8e",
   "metadata": {},
   "outputs": [
    {
     "name": "stdout",
     "output_type": "stream",
     "text": [
      "Shape of X_train:  (11920, 11) (11920,)\n",
      "Exited values count:\n",
      " 1    5960\n",
      "0    5960\n",
      "Name: Exited, dtype: int64\n"
     ]
    },
    {
     "data": {
      "text/html": [
       "<div>\n",
       "<style scoped>\n",
       "    .dataframe tbody tr th:only-of-type {\n",
       "        vertical-align: middle;\n",
       "    }\n",
       "\n",
       "    .dataframe tbody tr th {\n",
       "        vertical-align: top;\n",
       "    }\n",
       "\n",
       "    .dataframe thead th {\n",
       "        text-align: right;\n",
       "    }\n",
       "</style>\n",
       "<table border=\"1\" class=\"dataframe\">\n",
       "  <thead>\n",
       "    <tr style=\"text-align: right;\">\n",
       "      <th></th>\n",
       "      <th>count</th>\n",
       "      <th>mean</th>\n",
       "      <th>std</th>\n",
       "      <th>min</th>\n",
       "      <th>25%</th>\n",
       "      <th>50%</th>\n",
       "      <th>75%</th>\n",
       "      <th>max</th>\n",
       "    </tr>\n",
       "  </thead>\n",
       "  <tbody>\n",
       "    <tr>\n",
       "      <th>CreditScore</th>\n",
       "      <td>11920.0</td>\n",
       "      <td>649.945973</td>\n",
       "      <td>91.258949</td>\n",
       "      <td>350.00</td>\n",
       "      <td>589.000000</td>\n",
       "      <td>651.000000</td>\n",
       "      <td>712.000000</td>\n",
       "      <td>850.00</td>\n",
       "    </tr>\n",
       "    <tr>\n",
       "      <th>Age</th>\n",
       "      <td>11920.0</td>\n",
       "      <td>40.900168</td>\n",
       "      <td>10.052322</td>\n",
       "      <td>18.00</td>\n",
       "      <td>34.000000</td>\n",
       "      <td>40.000000</td>\n",
       "      <td>47.000000</td>\n",
       "      <td>92.00</td>\n",
       "    </tr>\n",
       "    <tr>\n",
       "      <th>Tenure</th>\n",
       "      <td>11920.0</td>\n",
       "      <td>4.785319</td>\n",
       "      <td>2.725579</td>\n",
       "      <td>0.00</td>\n",
       "      <td>3.000000</td>\n",
       "      <td>5.000000</td>\n",
       "      <td>7.000000</td>\n",
       "      <td>10.00</td>\n",
       "    </tr>\n",
       "    <tr>\n",
       "      <th>Balance</th>\n",
       "      <td>11920.0</td>\n",
       "      <td>81502.040499</td>\n",
       "      <td>61476.337999</td>\n",
       "      <td>0.00</td>\n",
       "      <td>0.000000</td>\n",
       "      <td>102711.710000</td>\n",
       "      <td>129581.487509</td>\n",
       "      <td>250898.09</td>\n",
       "    </tr>\n",
       "    <tr>\n",
       "      <th>NumOfProducts</th>\n",
       "      <td>11920.0</td>\n",
       "      <td>1.420050</td>\n",
       "      <td>0.575225</td>\n",
       "      <td>1.00</td>\n",
       "      <td>1.000000</td>\n",
       "      <td>1.000000</td>\n",
       "      <td>2.000000</td>\n",
       "      <td>4.00</td>\n",
       "    </tr>\n",
       "    <tr>\n",
       "      <th>HasCrCard</th>\n",
       "      <td>11920.0</td>\n",
       "      <td>0.625839</td>\n",
       "      <td>0.483926</td>\n",
       "      <td>0.00</td>\n",
       "      <td>0.000000</td>\n",
       "      <td>1.000000</td>\n",
       "      <td>1.000000</td>\n",
       "      <td>1.00</td>\n",
       "    </tr>\n",
       "    <tr>\n",
       "      <th>IsActiveMember</th>\n",
       "      <td>11920.0</td>\n",
       "      <td>0.371393</td>\n",
       "      <td>0.483197</td>\n",
       "      <td>0.00</td>\n",
       "      <td>0.000000</td>\n",
       "      <td>0.000000</td>\n",
       "      <td>1.000000</td>\n",
       "      <td>1.00</td>\n",
       "    </tr>\n",
       "    <tr>\n",
       "      <th>EstimatedSalary</th>\n",
       "      <td>11920.0</td>\n",
       "      <td>100958.185881</td>\n",
       "      <td>57350.169178</td>\n",
       "      <td>90.07</td>\n",
       "      <td>52759.501099</td>\n",
       "      <td>100963.183407</td>\n",
       "      <td>150279.980000</td>\n",
       "      <td>199970.74</td>\n",
       "    </tr>\n",
       "    <tr>\n",
       "      <th>Geography_Germany</th>\n",
       "      <td>11920.0</td>\n",
       "      <td>0.243708</td>\n",
       "      <td>0.429337</td>\n",
       "      <td>0.00</td>\n",
       "      <td>0.000000</td>\n",
       "      <td>0.000000</td>\n",
       "      <td>0.000000</td>\n",
       "      <td>1.00</td>\n",
       "    </tr>\n",
       "    <tr>\n",
       "      <th>Geography_Spain</th>\n",
       "      <td>11920.0</td>\n",
       "      <td>0.176258</td>\n",
       "      <td>0.381056</td>\n",
       "      <td>0.00</td>\n",
       "      <td>0.000000</td>\n",
       "      <td>0.000000</td>\n",
       "      <td>0.000000</td>\n",
       "      <td>1.00</td>\n",
       "    </tr>\n",
       "    <tr>\n",
       "      <th>Gender_Male</th>\n",
       "      <td>11920.0</td>\n",
       "      <td>0.415017</td>\n",
       "      <td>0.492746</td>\n",
       "      <td>0.00</td>\n",
       "      <td>0.000000</td>\n",
       "      <td>0.000000</td>\n",
       "      <td>1.000000</td>\n",
       "      <td>1.00</td>\n",
       "    </tr>\n",
       "  </tbody>\n",
       "</table>\n",
       "</div>"
      ],
      "text/plain": [
       "                     count           mean           std     min           25%  \\\n",
       "CreditScore        11920.0     649.945973     91.258949  350.00    589.000000   \n",
       "Age                11920.0      40.900168     10.052322   18.00     34.000000   \n",
       "Tenure             11920.0       4.785319      2.725579    0.00      3.000000   \n",
       "Balance            11920.0   81502.040499  61476.337999    0.00      0.000000   \n",
       "NumOfProducts      11920.0       1.420050      0.575225    1.00      1.000000   \n",
       "HasCrCard          11920.0       0.625839      0.483926    0.00      0.000000   \n",
       "IsActiveMember     11920.0       0.371393      0.483197    0.00      0.000000   \n",
       "EstimatedSalary    11920.0  100958.185881  57350.169178   90.07  52759.501099   \n",
       "Geography_Germany  11920.0       0.243708      0.429337    0.00      0.000000   \n",
       "Geography_Spain    11920.0       0.176258      0.381056    0.00      0.000000   \n",
       "Gender_Male        11920.0       0.415017      0.492746    0.00      0.000000   \n",
       "\n",
       "                             50%            75%        max  \n",
       "CreditScore           651.000000     712.000000     850.00  \n",
       "Age                    40.000000      47.000000      92.00  \n",
       "Tenure                  5.000000       7.000000      10.00  \n",
       "Balance            102711.710000  129581.487509  250898.09  \n",
       "NumOfProducts           1.000000       2.000000       4.00  \n",
       "HasCrCard               1.000000       1.000000       1.00  \n",
       "IsActiveMember          0.000000       1.000000       1.00  \n",
       "EstimatedSalary    100963.183407  150279.980000  199970.74  \n",
       "Geography_Germany       0.000000       0.000000       1.00  \n",
       "Geography_Spain         0.000000       0.000000       1.00  \n",
       "Gender_Male             0.000000       1.000000       1.00  "
      ]
     },
     "execution_count": 18,
     "metadata": {},
     "output_type": "execute_result"
    }
   ],
   "source": [
    "#Use SMOTE to handle unbalanced classes in dataset\n",
    "sm = SMOTE(random_state=42)\n",
    "X_train, y_train = sm.fit_resample(X_train, y_train)\n",
    "print('Shape of X_train: ', X_train.shape, y_train.shape)\n",
    "print('Exited values count:\\n',y_train.value_counts())\n",
    "X_train.describe().T\n"
   ]
  },
  {
   "cell_type": "markdown",
   "id": "0bd44bb4",
   "metadata": {},
   "source": [
    "## Save splitted and oversampled datasets"
   ]
  },
  {
   "cell_type": "code",
   "execution_count": 7,
   "id": "ebe601bc",
   "metadata": {},
   "outputs": [],
   "source": [
    "# Save to files oversampled train dataset and test dataset\n",
    "file_path=\"../data/\"\n",
    "\n",
    "X_train_fpath = file_path + 'preprocessed/X_train.csv'\n",
    "y_train_fpath = file_path + 'preprocessed/y_train.csv'\n",
    "X_test_fpath = file_path + 'preprocessed/X_test.csv'\n",
    "y_test_fpath =  file_path + 'preprocessed/y_test.csv'\n",
    "\n",
    "X_train.to_csv(X_train_fpath, index=False)\n",
    "y_train.to_csv(y_train_fpath, index=False)\n",
    "X_test.to_csv(X_test_fpath, index=False)\n",
    "y_test.to_csv(y_test_fpath, index=False)"
   ]
  },
  {
   "cell_type": "markdown",
   "id": "c2fe3cb9",
   "metadata": {},
   "source": [
    "## Scale Data"
   ]
  },
  {
   "cell_type": "markdown",
   "id": "6561ecf2",
   "metadata": {},
   "source": [
    "We need to Scale data for further modelling. But not all models require scaling. So we will have separate dataframes with raw and scaled data."
   ]
  },
  {
   "cell_type": "code",
   "execution_count": 8,
   "id": "22eafbcb",
   "metadata": {},
   "outputs": [],
   "source": [
    "# Scale data with StandardScaler\n",
    "ssc=StandardScaler()\n",
    "X_train_scaled=pd.DataFrame(ssc.fit_transform(X_train), index=X_train.index, columns=X_train.columns)\n",
    "X_test_scaled=pd.DataFrame(ssc.transform(X_test), index=X_test.index, columns=X_test.columns)"
   ]
  },
  {
   "cell_type": "markdown",
   "id": "8d26b0f8",
   "metadata": {},
   "source": [
    "## Save Scales datasets"
   ]
  },
  {
   "cell_type": "code",
   "execution_count": 9,
   "id": "916dde28",
   "metadata": {},
   "outputs": [],
   "source": [
    "X_train_scaled_fpath = file_path + 'preprocessed/X_train_scaled.csv'\n",
    "X_test_scaled_fpath = file_path + 'preprocessed/X_test_scaled.csv'\n",
    "X_train_scaled.to_csv(X_train_scaled_fpath, index=False)\n",
    "X_test_scaled.to_csv(X_test_scaled_fpath, index=False)"
   ]
  },
  {
   "cell_type": "code",
   "execution_count": null,
   "id": "db5fb52e",
   "metadata": {},
   "outputs": [],
   "source": []
  }
 ],
 "metadata": {
  "kernelspec": {
   "display_name": "Python 3 (ipykernel)",
   "language": "python",
   "name": "python3"
  },
  "language_info": {
   "codemirror_mode": {
    "name": "ipython",
    "version": 3
   },
   "file_extension": ".py",
   "mimetype": "text/x-python",
   "name": "python",
   "nbconvert_exporter": "python",
   "pygments_lexer": "ipython3",
   "version": "3.9.12"
  }
 },
 "nbformat": 4,
 "nbformat_minor": 5
}
